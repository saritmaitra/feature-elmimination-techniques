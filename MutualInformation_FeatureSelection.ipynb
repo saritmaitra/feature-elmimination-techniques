{
 "cells": [
  {
   "cell_type": "markdown",
   "metadata": {},
   "source": [
    "                                                Author: @Sarit Maitra\n",
    "\n",
    "\n",
    "# Mutual Information\n",
    "Mutual information is calculated between two variables and measures the reduction in uncertainty for one variable given a known value of the other variable.\n",
    "\n",
    "The mutual information between two random variables X and Y can be stated formally as: I(X ; Y) = H(X) – H(X | Y)\n",
    "\n",
    "- I(X ; Y) is the mutual information for X and Y, \n",
    "- H(X) is the entropy for X  \n",
    "- H(X | Y) is the conditional entropy for X given Y. \n",
    "\n",
    "Mutual information is a measure of dependence or “mutual dependence” between two random variables. As such, the measure is symmetrical, meaning that I(X ; Y) = I(Y ; X).\n",
    "\n",
    "Advantage of using mutual information over F-Test is, it does well with the non-linear relationship between feature and target variable.\n",
    "\n",
    "\n",
    "**Wrapper methods tend to work very well in practice. However, they are computationally expensive, specially when dealing hundreds of features. If we have the computational resources, they are an excellent way to go**"
   ]
  },
  {
   "cell_type": "code",
   "execution_count": 1,
   "metadata": {},
   "outputs": [
    {
     "name": "stdout",
     "output_type": "stream",
     "text": [
      "Requirement already satisfied: pyforest in c:\\users\\sarit\\anaconda3\\lib\\site-packages (1.0.3)\n"
     ]
    },
    {
     "data": {
      "application/javascript": [
       "\n",
       "        if (window._pyforest_update_imports_cell) { window._pyforest_update_imports_cell('import pandas as pd'); }\n",
       "    "
      ],
      "text/plain": [
       "<IPython.core.display.Javascript object>"
      ]
     },
     "metadata": {},
     "output_type": "display_data"
    },
    {
     "data": {
      "application/javascript": [
       "\n",
       "        if (window._pyforest_update_imports_cell) { window._pyforest_update_imports_cell('import pandas as pd'); }\n",
       "    "
      ],
      "text/plain": [
       "<IPython.core.display.Javascript object>"
      ]
     },
     "metadata": {},
     "output_type": "display_data"
    },
    {
     "data": {
      "application/javascript": [
       "\n",
       "        if (window._pyforest_update_imports_cell) { window._pyforest_update_imports_cell('import pandas as pd'); }\n",
       "    "
      ],
      "text/plain": [
       "<IPython.core.display.Javascript object>"
      ]
     },
     "metadata": {},
     "output_type": "display_data"
    },
    {
     "name": "stderr",
     "output_type": "stream",
     "text": [
      "<timed exec>:10: FutureWarning: pandas.util.testing is deprecated. Use the functions in the public API at pandas.testing instead.\n"
     ]
    },
    {
     "name": "stdout",
     "output_type": "stream",
     "text": [
      "Requirement already satisfied: scikit-plot in c:\\users\\sarit\\anaconda3\\lib\\site-packages (0.3.7)\n",
      "Requirement already satisfied: scipy>=0.9 in c:\\users\\sarit\\anaconda3\\lib\\site-packages (from scikit-plot) (1.5.2)\n",
      "Requirement already satisfied: matplotlib>=1.4.0 in c:\\users\\sarit\\anaconda3\\lib\\site-packages (from scikit-plot) (3.3.2)\n",
      "Requirement already satisfied: scikit-learn>=0.18 in c:\\users\\sarit\\anaconda3\\lib\\site-packages (from scikit-plot) (0.23.2)\n",
      "Requirement already satisfied: joblib>=0.10 in c:\\users\\sarit\\anaconda3\\lib\\site-packages (from scikit-plot) (0.17.0)\n",
      "Requirement already satisfied: numpy>=1.14.5 in c:\\users\\sarit\\anaconda3\\lib\\site-packages (from scipy>=0.9->scikit-plot) (1.19.2)\n",
      "Requirement already satisfied: pillow>=6.2.0 in c:\\users\\sarit\\anaconda3\\lib\\site-packages (from matplotlib>=1.4.0->scikit-plot) (8.0.1)\n",
      "Requirement already satisfied: cycler>=0.10 in c:\\users\\sarit\\anaconda3\\lib\\site-packages (from matplotlib>=1.4.0->scikit-plot) (0.10.0)\n",
      "Requirement already satisfied: kiwisolver>=1.0.1 in c:\\users\\sarit\\anaconda3\\lib\\site-packages (from matplotlib>=1.4.0->scikit-plot) (1.3.0)\n",
      "Requirement already satisfied: pyparsing!=2.0.4,!=2.1.2,!=2.1.6,>=2.0.3 in c:\\users\\sarit\\anaconda3\\lib\\site-packages (from matplotlib>=1.4.0->scikit-plot) (2.4.7)\n",
      "Requirement already satisfied: python-dateutil>=2.1 in c:\\users\\sarit\\anaconda3\\lib\\site-packages (from matplotlib>=1.4.0->scikit-plot) (2.8.1)\n",
      "Requirement already satisfied: certifi>=2020.06.20 in c:\\users\\sarit\\anaconda3\\lib\\site-packages (from matplotlib>=1.4.0->scikit-plot) (2020.6.20)\n",
      "Requirement already satisfied: threadpoolctl>=2.0.0 in c:\\users\\sarit\\anaconda3\\lib\\site-packages (from scikit-learn>=0.18->scikit-plot) (2.1.0)\n",
      "Requirement already satisfied: six in c:\\users\\sarit\\anaconda3\\lib\\site-packages (from cycler>=0.10->matplotlib>=1.4.0->scikit-plot) (1.15.0)\n",
      "Wall time: 27 s\n"
     ]
    }
   ],
   "source": [
    "%%time\n",
    "!pip install pyforest\n",
    "from pyforest import *\n",
    "pd.set_option('display.max_rows', 500)\n",
    "pd.set_option('display.max_columns', 500)\n",
    "pd.set_option('display.width', 150)\n",
    "import datetime, pickle, copy, warnings\n",
    "from pandas import DataFrame, concat\n",
    "import seaborn\n",
    "import glob\n",
    "import pandas.util.testing as tm\n",
    "from functools import reduce\n",
    "from pandas import DataFrame, merge, concat\n",
    "from sklearn.impute import KNNImputer\n",
    "from sklearn.experimental import enable_iterative_imputer\n",
    "from sklearn.impute import IterativeImputer\n",
    "import statsmodels.api as sm\n",
    "import statsmodels.formula.api as smf\n",
    "from statsmodels.stats.outliers_influence import variance_inflation_factor\n",
    "from joblib import Parallel, delayed\n",
    "import seaborn as sns\n",
    "import time\n",
    "from sklearn.preprocessing import MaxAbsScaler\n",
    "import scipy.linalg\n",
    "import decimal\n",
    "!pip install scikit-plot\n",
    "import scikitplot\n",
    "from sklearn.svm import SVC, NuSVC, LinearSVC\n",
    "from sklearn.metrics import accuracy_score\n",
    "from sklearn.metrics import average_precision_score\n",
    "from sklearn.metrics import cohen_kappa_score\n",
    "from sklearn.metrics import recall_score\n",
    "from sklearn.metrics import roc_auc_score\n",
    "from sklearn.metrics import classification_report, confusion_matrix\n",
    "from sklearn.model_selection import StratifiedKFold\n",
    "from sklearn.model_selection import cross_validate\n",
    "import matplotlib.ticker as mtick\n",
    "from sklearn.calibration import CalibratedClassifierCV\n",
    "from sklearn.model_selection import TimeSeriesSplit\n",
    "from collections import Counter\n",
    "from sklearn.model_selection import GridSearchCV\n",
    "from sklearn.naive_bayes import GaussianNB\n",
    "from yellowbrick.classifier import ClassificationReport\n",
    "from sklearn.decomposition import PCA, KernelPCA\n",
    "from numpy import where, meshgrid, arange, hstack\n",
    "from mlxtend.plotting import plot_decision_regions\n",
    "from sklearn.manifold import TSNE\n",
    "from sklearn.decomposition import MiniBatchDictionaryLearning\n",
    "from mpl_toolkits.mplot3d import Axes3D\n",
    "from matplotlib import cm\n",
    "import plotly.express as px\n",
    "from sklearn.feature_selection import RFECV\n",
    "from sklearn.model_selection import KFold,StratifiedKFold, RepeatedStratifiedKFold, cross_val_score \n",
    "from sklearn.ensemble import RandomForestClassifier\n",
    "from sklearn.feature_selection import RFECV,SelectPercentile,mutual_info_classif, SelectKBest, f_classif\n",
    "from sklearn.pipeline import Pipeline\n",
    "from numpy import mean, std"
   ]
  },
  {
   "cell_type": "code",
   "execution_count": 2,
   "metadata": {},
   "outputs": [
    {
     "data": {
      "application/javascript": [
       "\n",
       "        if (window._pyforest_update_imports_cell) { window._pyforest_update_imports_cell('import pandas as pd'); }\n",
       "    "
      ],
      "text/plain": [
       "<IPython.core.display.Javascript object>"
      ]
     },
     "metadata": {},
     "output_type": "display_data"
    },
    {
     "data": {
      "application/javascript": [
       "\n",
       "        if (window._pyforest_update_imports_cell) { window._pyforest_update_imports_cell('import pandas as pd'); }\n",
       "    "
      ],
      "text/plain": [
       "<IPython.core.display.Javascript object>"
      ]
     },
     "metadata": {},
     "output_type": "display_data"
    },
    {
     "name": "stdout",
     "output_type": "stream",
     "text": [
      "Original data shape: (31985, 93)\n",
      "\n",
      "Shifted data shape: (31984, 93)\n",
      "\n"
     ]
    },
    {
     "data": {
      "application/javascript": [
       "\n",
       "        if (window._pyforest_update_imports_cell) { window._pyforest_update_imports_cell('from sklearn.model_selection import train_test_split\\nimport pandas as pd'); }\n",
       "    "
      ],
      "text/plain": [
       "<IPython.core.display.Javascript object>"
      ]
     },
     "metadata": {},
     "output_type": "display_data"
    },
    {
     "name": "stdout",
     "output_type": "stream",
     "text": [
      "Train/Test Split Results:\n",
      "X Train Set:\n",
      "(25587, 92)\n",
      "X Test Set:\n",
      "(6397, 92)\n",
      "Wall time: 644 ms\n"
     ]
    }
   ],
   "source": [
    "%%time\n",
    "df = pd.read_csv(\"july_futures_1min.csv\")\n",
    "df.set_index('timestamp', inplace=True)\n",
    "df.sort_index(ascending=True, inplace=True)\n",
    "df.index = pd.to_datetime(df.index)\n",
    "\n",
    "\n",
    "d = df.copy()\n",
    "#Classification\n",
    "d['SP_frwd_ret'] = (d['es_close']/d['es_open']) -1\n",
    "\n",
    "# If next period's return > 0, then 1, if next period's return <= 0, then 0\n",
    "d['y'] = 0\n",
    "# setting target as binary \n",
    "def getBinary(val):\n",
    "    if val>=0:\n",
    "        return 1\n",
    "    else:\n",
    "        return 0\n",
    "\n",
    "d['y'] = d.SP_frwd_ret.apply(getBinary) # target\n",
    "d.drop(['SP_frwd_ret', 'es_rets','es_open','es_high','es_low'], 1, inplace=True)\n",
    "print('Original data shape:', d.shape); print()\n",
    "\n",
    "fcast_out = int(1) # prediction for next 8 hrs\n",
    "d['y'] = d['y'].shift(-fcast_out)\n",
    "d.dropna(inplace=True)\n",
    "print('Shifted data shape:', d.shape); print()\n",
    "\n",
    "#Split data set\n",
    "x = d.loc[:, d.columns != 'y']\n",
    "y = d.loc[:, d.columns == 'y']\n",
    "\n",
    "#Test set uses 20% of the data, no shuffle since we're dealing with time series.\n",
    "x_tr, x_te, y_tr, y_te = train_test_split(x, y, test_size=0.20, shuffle=False)\n",
    "\n",
    "#Summary\n",
    "print(\"Train/Test Split Results:\")\n",
    "print(\"X Train Set:\"); print(x_tr.shape)\n",
    "print(\"X Test Set:\");print(x_te.shape)\n",
    "\n",
    "from sklearn.preprocessing import StandardScaler\n",
    "#Initialize and fit scaler\n",
    "scaler = StandardScaler()\n",
    "#Fit scaler using the training data\n",
    "scaler.fit(x_tr)\n",
    "\n",
    "#Transform the raw data\n",
    "x_tr_st = scaler.transform(x_tr)\n",
    "x_te_st = scaler.transform(x_te)"
   ]
  },
  {
   "cell_type": "markdown",
   "metadata": {},
   "source": [
    "## Feature selection\n",
    "Feature selection helps to zone in on the relevant variables in a data set, and can also help to eliminate collinear variables. It helps reduce the noise in the data set, and it helps the model pick up the relevant signals.\n",
    "\n",
    "### Filter method:\n",
    "Here we do not use a learning algorithm on the original data X, but only consider statistical characteristics of the input data. For example, we can select the features for which the correlation between the feature and the target variable exceeds a correlation threshold.\n",
    "\n",
    "### Univariate Feature Selection\n",
    "\n",
    "Ref: https://thuijskens.github.io/2017/10/07/feature-selection/\n",
    "\n",
    "- Due to the non-linear nature of financial data, I have used mutual information as opposed to the F-test. \n",
    "- F-test estimates the degree of linear dependency between two random variables. \n",
    "- mutual information methods can capture any kind of statistical dependency\n",
    "\n",
    "Mutual information is a measure between two multi-dimensional random variables X and Y, that quantifies the amount of information obtained about one random variable, through the other random variable.\n",
    "\n",
    "**It is a non-parametric measure, therefore more the samples better for accurate estimation.**\n",
    "\n",
    "Mutual information between two random variables is a non-negative value, which measures the dependency between the variables. It is equal to zero if and only if two random variables are independent, and higher values mean higher dependency."
   ]
  },
  {
   "cell_type": "code",
   "execution_count": 3,
   "metadata": {},
   "outputs": [
    {
     "data": {
      "application/javascript": [
       "\n",
       "        if (window._pyforest_update_imports_cell) { window._pyforest_update_imports_cell('from sklearn.model_selection import train_test_split\\nimport numpy as np\\nimport pandas as pd'); }\n",
       "    "
      ],
      "text/plain": [
       "<IPython.core.display.Javascript object>"
      ]
     },
     "metadata": {},
     "output_type": "display_data"
    },
    {
     "name": "stdout",
     "output_type": "stream",
     "text": [
      "Feature Selection Results:\n",
      "Filter Result:\n",
      "Number of features:  55\n"
     ]
    }
   ],
   "source": [
    "# FEATURE SELECTION\n",
    "mi_select = SelectPercentile(mutual_info_classif, \n",
    "                             percentile=60).fit(x_tr_st,  np.ravel(y_tr))\n",
    "x_tr_mi = mi_select.transform(x_tr_st)\n",
    "x_te_mi = mi_select.transform(x_te_st)\n",
    "print(\"Feature Selection Results:\")\n",
    "print(\"Filter Result:\"); print(\"Number of features: \", x_tr_mi.shape[1])"
   ]
  },
  {
   "cell_type": "code",
   "execution_count": 5,
   "metadata": {
    "scrolled": false
   },
   "outputs": [
    {
     "data": {
      "application/javascript": [
       "\n",
       "        if (window._pyforest_update_imports_cell) { window._pyforest_update_imports_cell('from sklearn.model_selection import train_test_split\\nimport numpy as np\\nimport pandas as pd'); }\n",
       "    "
      ],
      "text/plain": [
       "<IPython.core.display.Javascript object>"
      ]
     },
     "metadata": {},
     "output_type": "display_data"
    },
    {
     "name": "stdout",
     "output_type": "stream",
     "text": [
      "Feature 0: 0.007150\n",
      "Feature 1: 0.001917\n",
      "Feature 2: 0.010177\n",
      "Feature 3: 0.007383\n",
      "Feature 4: 0.008058\n",
      "Feature 5: 0.010654\n",
      "Feature 6: 0.005503\n",
      "Feature 7: 0.006901\n",
      "Feature 8: 0.006425\n",
      "Feature 9: 0.009634\n",
      "Feature 10: 0.002475\n",
      "Feature 11: 0.009494\n",
      "Feature 12: 0.007626\n",
      "Feature 13: 0.005547\n",
      "Feature 14: 0.006522\n",
      "Feature 15: 0.011324\n",
      "Feature 16: 0.004115\n",
      "Feature 17: 0.005736\n",
      "Feature 18: 0.001518\n",
      "Feature 19: 0.004848\n",
      "Feature 20: 0.002127\n",
      "Feature 21: 0.004052\n",
      "Feature 22: 0.003633\n",
      "Feature 23: 0.006039\n",
      "Feature 24: 0.007949\n",
      "Feature 25: 0.008847\n",
      "Feature 26: 0.002981\n",
      "Feature 27: 0.002735\n",
      "Feature 28: 0.000000\n",
      "Feature 29: 0.002907\n",
      "Feature 30: 0.005142\n",
      "Feature 31: 0.008049\n",
      "Feature 32: 0.006063\n",
      "Feature 33: 0.002421\n",
      "Feature 34: 0.006020\n",
      "Feature 35: 0.004421\n",
      "Feature 36: 0.008091\n",
      "Feature 37: 0.013961\n",
      "Feature 38: 0.004143\n",
      "Feature 39: 0.003519\n",
      "Feature 40: 0.009441\n",
      "Feature 41: 0.004860\n",
      "Feature 42: 0.002025\n",
      "Feature 43: 0.009550\n",
      "Feature 44: 0.001659\n",
      "Feature 45: 0.006817\n",
      "Feature 46: 0.002177\n",
      "Feature 47: 0.000000\n",
      "Feature 48: 0.002826\n",
      "Feature 49: 0.005295\n",
      "Feature 50: 0.000000\n",
      "Feature 51: 0.000000\n",
      "Feature 52: 0.000000\n",
      "Feature 53: 0.000000\n",
      "Feature 54: 0.000000\n",
      "Feature 55: 0.000000\n",
      "Feature 56: 0.000000\n",
      "Feature 57: 0.013226\n",
      "Feature 58: 0.008553\n",
      "Feature 59: 0.000962\n",
      "Feature 60: 0.005079\n",
      "Feature 61: 0.010891\n",
      "Feature 62: 0.005037\n",
      "Feature 63: 0.006126\n",
      "Feature 64: 0.005222\n",
      "Feature 65: 0.001663\n",
      "Feature 66: 0.002297\n",
      "Feature 67: 0.003708\n",
      "Feature 68: 0.001512\n",
      "Feature 69: 0.000000\n",
      "Feature 70: 0.001873\n",
      "Feature 71: 0.000000\n",
      "Feature 72: 0.000286\n",
      "Feature 73: 0.000000\n",
      "Feature 74: 0.003950\n",
      "Feature 75: 0.001065\n",
      "Feature 76: 0.001343\n",
      "Feature 77: 0.004617\n",
      "Feature 78: 0.000445\n",
      "Feature 79: 0.005257\n",
      "Feature 80: 0.002975\n",
      "Feature 81: 0.000000\n",
      "Feature 82: 0.006378\n",
      "Feature 83: 0.000000\n",
      "Feature 84: 0.003974\n",
      "Feature 85: 0.000000\n",
      "Feature 86: 0.000996\n",
      "Feature 87: 0.000000\n",
      "Feature 88: 0.000193\n",
      "Feature 89: 0.000000\n",
      "Feature 90: 0.000726\n",
      "Feature 91: 0.000000\n"
     ]
    },
    {
     "data": {
      "application/javascript": [
       "\n",
       "        if (window._pyforest_update_imports_cell) { window._pyforest_update_imports_cell('from sklearn.model_selection import train_test_split\\nimport numpy as np\\nimport pandas as pd\\nimport matplotlib.pyplot as plt'); }\n",
       "    "
      ],
      "text/plain": [
       "<IPython.core.display.Javascript object>"
      ]
     },
     "metadata": {},
     "output_type": "display_data"
    },
    {
     "data": {
      "application/javascript": [
       "\n",
       "        if (window._pyforest_update_imports_cell) { window._pyforest_update_imports_cell('from sklearn.model_selection import train_test_split\\nimport numpy as np\\nimport pandas as pd\\nimport matplotlib.pyplot as plt'); }\n",
       "    "
      ],
      "text/plain": [
       "<IPython.core.display.Javascript object>"
      ]
     },
     "metadata": {},
     "output_type": "display_data"
    },
    {
     "data": {
      "application/javascript": [
       "\n",
       "        if (window._pyforest_update_imports_cell) { window._pyforest_update_imports_cell('from sklearn.model_selection import train_test_split\\nimport numpy as np\\nimport pandas as pd\\nimport matplotlib.pyplot as plt'); }\n",
       "    "
      ],
      "text/plain": [
       "<IPython.core.display.Javascript object>"
      ]
     },
     "metadata": {},
     "output_type": "display_data"
    },
    {
     "data": {
      "application/javascript": [
       "\n",
       "        if (window._pyforest_update_imports_cell) { window._pyforest_update_imports_cell('from sklearn.model_selection import train_test_split\\nimport numpy as np\\nimport pandas as pd\\nimport matplotlib.pyplot as plt'); }\n",
       "    "
      ],
      "text/plain": [
       "<IPython.core.display.Javascript object>"
      ]
     },
     "metadata": {},
     "output_type": "display_data"
    },
    {
     "data": {
      "application/javascript": [
       "\n",
       "        if (window._pyforest_update_imports_cell) { window._pyforest_update_imports_cell('from sklearn.model_selection import train_test_split\\nimport numpy as np\\nimport pandas as pd\\nimport matplotlib.pyplot as plt'); }\n",
       "    "
      ],
      "text/plain": [
       "<IPython.core.display.Javascript object>"
      ]
     },
     "metadata": {},
     "output_type": "display_data"
    },
    {
     "data": {
      "application/javascript": [
       "\n",
       "        if (window._pyforest_update_imports_cell) { window._pyforest_update_imports_cell('from sklearn.model_selection import train_test_split\\nimport numpy as np\\nimport pandas as pd\\nimport matplotlib.pyplot as plt'); }\n",
       "    "
      ],
      "text/plain": [
       "<IPython.core.display.Javascript object>"
      ]
     },
     "metadata": {},
     "output_type": "display_data"
    },
    {
     "data": {
      "image/png": "[encoded data removed]",
      "text/plain": [
       "<Figure size 1080x576 with 1 Axes>"
      ]
     },
     "metadata": {},
     "output_type": "display_data"
    }
   ],
   "source": [
    "#feature_names = x.columns\n",
    "# feature selection\n",
    "def select_features(x_tr_st, y_tr_st, x_te):\n",
    "    # configure to select all features\n",
    "    mi = SelectPercentile(mutual_info_classif, \n",
    "                             percentile=60).fit(x_tr_st,  np.ravel(y_tr))\n",
    "    # transform train input data\n",
    "    x_tr_mi = mi.transform(x_tr_st)\n",
    "    # transform test input data\n",
    "    x_te_mi = mi.transform(x_te_st)\n",
    "    return x_tr_mi, x_te_mi, mi\n",
    "\n",
    "# feature selection\n",
    "x_tr_mi, x_te_mi, mi = select_features(x_tr_st, y_tr, x_te_st)\n",
    "# what are scores for the features\n",
    "for i in range(len(mi.scores_)):\n",
    "    print('Feature %d: %f' % (i, mi.scores_[i]))\n",
    "# plot the scores\n",
    "plt.style.use('ggplot')\n",
    "plt.figure(figsize=(15,8))\n",
    "plt.bar([i for i in range(len(mi.scores_))], mi.scores_)\n",
    "plt.xlabel(\"feature index\")\n",
    "plt.ylabel(\"Estimated MI value\")\n",
    "#plt.xticks(range(fs_scores.shape[1]), feature_names)\n",
    "plt.show()"
   ]
  },
  {
   "cell_type": "markdown",
   "metadata": {},
   "source": [
    "The y-axis represents the estimated mutual information between each feature and the target variable. Compared to the correlation feature selection method we can clearly see many more features scored as being relevant. This may be because of the statistical noise that might exists in the dataset.\n",
    "\n",
    "We want to see the relationship between the number of selected features and classification accuracy. In this relationship, we may expect that more features result in a better performance to a point.\n",
    "\n",
    "We will explore this relationship by manually evaluating each configuration of k for the SelectKBest from 1 to 22 features, gathering the sample of accuracy scores, and plotting the results using box and whisker plots side-by-side. \n",
    "\n",
    "The spread and mean of these box plots would be expected to show any interesting relationship between the number of selected features and the classification accuracy of the pipeline.\n",
    "\n",
    "\n",
    "**need to run below example a few times to compare the average outcome**"
   ]
  },
  {
   "cell_type": "code",
   "execution_count": 6,
   "metadata": {
    "scrolled": false
   },
   "outputs": [
    {
     "name": "stdout",
     "output_type": "stream",
     "text": [
      "=>1 0.533 (0.008)\n",
      "=>2 0.546 (0.008)\n",
      "=>3 0.546 (0.010)\n",
      "=>4 0.546 (0.009)\n",
      "=>5 0.552 (0.008)\n",
      "=>6 0.552 (0.008)\n",
      "=>7 0.558 (0.009)\n",
      "=>8 0.562 (0.008)\n",
      "=>9 0.561 (0.009)\n",
      "=>10 0.562 (0.009)\n",
      "=>11 0.564 (0.009)\n",
      "=>12 0.563 (0.007)\n",
      "=>13 0.564 (0.007)\n",
      "=>14 0.567 (0.008)\n",
      "=>15 0.565 (0.008)\n",
      "=>16 0.565 (0.008)\n",
      "=>17 0.565 (0.008)\n",
      "=>18 0.566 (0.008)\n",
      "=>19 0.565 (0.009)\n",
      "=>20 0.567 (0.008)\n",
      "=>21 0.567 (0.007)\n",
      "=>22 0.568 (0.009)\n",
      "=>23 0.569 (0.008)\n",
      "=>24 0.566 (0.007)\n",
      "=>25 0.566 (0.008)\n",
      "=>26 0.565 (0.008)\n",
      "=>27 0.569 (0.007)\n",
      "=>28 0.567 (0.007)\n",
      "=>29 0.568 (0.007)\n",
      "=>30 0.568 (0.007)\n",
      "=>31 0.568 (0.007)\n",
      "=>32 0.568 (0.007)\n",
      "=>33 0.570 (0.005)\n",
      "=>34 0.570 (0.005)\n",
      "=>35 0.569 (0.007)\n",
      "=>36 0.570 (0.006)\n",
      "=>37 0.570 (0.007)\n",
      "=>38 0.572 (0.007)\n",
      "=>39 0.572 (0.007)\n",
      "=>40 0.572 (0.005)\n",
      "=>41 0.571 (0.008)\n",
      "=>42 0.572 (0.008)\n",
      "=>43 0.572 (0.007)\n",
      "=>44 0.572 (0.006)\n",
      "=>45 0.573 (0.007)\n",
      "=>46 0.573 (0.008)\n",
      "=>47 0.573 (0.007)\n",
      "=>48 0.573 (0.007)\n",
      "=>49 0.573 (0.006)\n",
      "=>50 0.572 (0.007)\n",
      "=>51 0.572 (0.005)\n",
      "=>52 0.572 (0.007)\n",
      "=>53 0.572 (0.006)\n",
      "=>54 0.574 (0.006)\n",
      "=>55 0.573 (0.007)\n",
      "=>56 0.574 (0.007)\n",
      "=>57 0.575 (0.007)\n",
      "=>58 0.574 (0.006)\n",
      "=>59 0.574 (0.008)\n",
      "=>60 0.573 (0.005)\n",
      "=>61 0.575 (0.007)\n",
      "=>62 0.573 (0.006)\n",
      "=>63 0.575 (0.008)\n",
      "=>64 0.574 (0.006)\n",
      "=>65 0.574 (0.007)\n",
      "=>66 0.575 (0.006)\n",
      "=>67 0.574 (0.006)\n",
      "=>68 0.574 (0.006)\n",
      "=>69 0.575 (0.006)\n",
      "=>70 0.576 (0.007)\n",
      "=>71 0.574 (0.007)\n",
      "=>72 0.575 (0.007)\n",
      "=>73 0.574 (0.007)\n",
      "=>74 0.573 (0.008)\n",
      "=>75 0.575 (0.006)\n",
      "=>76 0.576 (0.006)\n",
      "=>77 0.573 (0.008)\n",
      "=>78 0.575 (0.007)\n",
      "=>79 0.577 (0.006)\n",
      "=>80 0.575 (0.007)\n",
      "=>81 0.573 (0.006)\n",
      "=>82 0.575 (0.006)\n",
      "=>83 0.577 (0.007)\n",
      "=>84 0.575 (0.008)\n",
      "=>85 0.576 (0.006)\n",
      "=>86 0.574 (0.006)\n",
      "=>87 0.576 (0.006)\n",
      "=>88 0.573 (0.006)\n",
      "=>89 0.574 (0.008)\n",
      "=>90 0.574 (0.006)\n",
      "=>91 0.575 (0.006)\n",
      "=>92 0.575 (0.007)\n"
     ]
    },
    {
     "data": {
      "application/javascript": [
       "\n",
       "        if (window._pyforest_update_imports_cell) { window._pyforest_update_imports_cell('from sklearn.model_selection import train_test_split\\nimport numpy as np\\nimport pandas as pd\\nimport matplotlib.pyplot as plt'); }\n",
       "    "
      ],
      "text/plain": [
       "<IPython.core.display.Javascript object>"
      ]
     },
     "metadata": {},
     "output_type": "display_data"
    },
    {
     "data": {
      "application/javascript": [
       "\n",
       "        if (window._pyforest_update_imports_cell) { window._pyforest_update_imports_cell('from sklearn.model_selection import train_test_split\\nimport numpy as np\\nimport pandas as pd\\nimport matplotlib.pyplot as plt'); }\n",
       "    "
      ],
      "text/plain": [
       "<IPython.core.display.Javascript object>"
      ]
     },
     "metadata": {},
     "output_type": "display_data"
    },
    {
     "data": {
      "application/javascript": [
       "\n",
       "        if (window._pyforest_update_imports_cell) { window._pyforest_update_imports_cell('from sklearn.model_selection import train_test_split\\nimport numpy as np\\nimport pandas as pd\\nimport matplotlib.pyplot as plt'); }\n",
       "    "
      ],
      "text/plain": [
       "<IPython.core.display.Javascript object>"
      ]
     },
     "metadata": {},
     "output_type": "display_data"
    },
    {
     "data": {
      "application/javascript": [
       "\n",
       "        if (window._pyforest_update_imports_cell) { window._pyforest_update_imports_cell('from sklearn.model_selection import train_test_split\\nimport numpy as np\\nimport pandas as pd\\nimport matplotlib.pyplot as plt'); }\n",
       "    "
      ],
      "text/plain": [
       "<IPython.core.display.Javascript object>"
      ]
     },
     "metadata": {},
     "output_type": "display_data"
    },
    {
     "data": {
      "image/png": "[encoded data removed]",
      "text/plain": [
       "<Figure size 1080x576 with 1 Axes>"
      ]
     },
     "metadata": {},
     "output_type": "display_data"
    }
   ],
   "source": [
    "# number of features \n",
    "num_features = [i+1 for i in range(x.shape[1])]\n",
    "# evaluate a give model using CV\n",
    "def evaluate_model(model, x_tr_st, y_tr):\n",
    "    cv = RepeatedStratifiedKFold(n_splits=10, n_repeats=3, random_state=1)\n",
    "    scores = cross_val_score(model, x_tr_st, y_tr, scoring='accuracy', cv=cv, n_jobs=-1, error_score='raise')\n",
    "    return scores\n",
    "\n",
    "# enumerate each number of features\n",
    "results = list()\n",
    "for k in num_features:\n",
    "    # pipeline\n",
    "    model = RandomForestClassifier()\n",
    "    fs = SelectKBest(score_func=f_classif, k=k)\n",
    "    pipeline = Pipeline(steps=[('MutualInformation', fs), ('rf', model)])\n",
    "    # evaluate the model\n",
    "    scores = evaluate_model(pipeline, x_tr_st, y_tr)\n",
    "    results.append(scores)\n",
    "    # results summary\n",
    "    print('=>%d %.3f (%.3f)' % (k, mean(scores), std(scores)))\n",
    "# plot model performance for comparison\n",
    "plt.style.use('ggplot')\n",
    "plt.figure(figsize=(15,8))\n",
    "plt.boxplot(results, labels=num_features, showmeans=True)\n",
    "plt.show()"
   ]
  },
  {
   "cell_type": "code",
   "execution_count": 7,
   "metadata": {},
   "outputs": [
    {
     "data": {
      "application/javascript": [
       "\n",
       "        if (window._pyforest_update_imports_cell) { window._pyforest_update_imports_cell('import sklearn\\nimport matplotlib.pyplot as plt\\nimport numpy as np\\nfrom sklearn.model_selection import train_test_split\\nimport pandas as pd'); }\n",
       "    "
      ],
      "text/plain": [
       "<IPython.core.display.Javascript object>"
      ]
     },
     "metadata": {},
     "output_type": "display_data"
    },
    {
     "data": {
      "text/plain": [
       "dict_keys(['explained_variance', 'r2', 'max_error', 'neg_median_absolute_error', 'neg_mean_absolute_error', 'neg_mean_squared_error', 'neg_mean_squared_log_error', 'neg_root_mean_squared_error', 'neg_mean_poisson_deviance', 'neg_mean_gamma_deviance', 'accuracy', 'roc_auc', 'roc_auc_ovr', 'roc_auc_ovo', 'roc_auc_ovr_weighted', 'roc_auc_ovo_weighted', 'balanced_accuracy', 'average_precision', 'neg_log_loss', 'neg_brier_score', 'adjusted_rand_score', 'homogeneity_score', 'completeness_score', 'v_measure_score', 'mutual_info_score', 'adjusted_mutual_info_score', 'normalized_mutual_info_score', 'fowlkes_mallows_score', 'precision', 'precision_macro', 'precision_micro', 'precision_samples', 'precision_weighted', 'recall', 'recall_macro', 'recall_micro', 'recall_samples', 'recall_weighted', 'f1', 'f1_macro', 'f1_micro', 'f1_samples', 'f1_weighted', 'jaccard', 'jaccard_macro', 'jaccard_micro', 'jaccard_samples', 'jaccard_weighted'])"
      ]
     },
     "execution_count": 7,
     "metadata": {},
     "output_type": "execute_result"
    }
   ],
   "source": [
    "sklearn.metrics.SCORERS.keys()"
   ]
  },
  {
   "cell_type": "markdown",
   "metadata": {},
   "source": [
    "# CAUTION :: computationaly expensive"
   ]
  },
  {
   "cell_type": "code",
   "execution_count": 10,
   "metadata": {},
   "outputs": [
    {
     "data": {
      "application/javascript": [
       "\n",
       "        if (window._pyforest_update_imports_cell) { window._pyforest_update_imports_cell('import sklearn\\nimport matplotlib.pyplot as plt\\nimport numpy as np\\nfrom sklearn.model_selection import train_test_split\\nimport pandas as pd'); }\n",
       "    "
      ],
      "text/plain": [
       "<IPython.core.display.Javascript object>"
      ]
     },
     "metadata": {},
     "output_type": "display_data"
    },
    {
     "name": "stderr",
     "output_type": "stream",
     "text": [
      "\n",
      "STOPPING EARLY DUE TO KEYBOARD INTERRUPT..."
     ]
    },
    {
     "data": {
      "application/javascript": [
       "\n",
       "        if (window._pyforest_update_imports_cell) { window._pyforest_update_imports_cell('import sklearn\\nimport matplotlib.pyplot as plt\\nimport numpy as np\\nfrom sklearn.model_selection import train_test_split\\nimport pandas as pd'); }\n",
       "    "
      ],
      "text/plain": [
       "<IPython.core.display.Javascript object>"
      ]
     },
     "metadata": {},
     "output_type": "display_data"
    },
    {
     "data": {
      "application/javascript": [
       "\n",
       "        if (window._pyforest_update_imports_cell) { window._pyforest_update_imports_cell('import sklearn\\nimport matplotlib.pyplot as plt\\nimport numpy as np\\nfrom sklearn.model_selection import train_test_split\\nimport pandas as pd'); }\n",
       "    "
      ],
      "text/plain": [
       "<IPython.core.display.Javascript object>"
      ]
     },
     "metadata": {},
     "output_type": "display_data"
    },
    {
     "data": {
      "application/javascript": [
       "\n",
       "        if (window._pyforest_update_imports_cell) { window._pyforest_update_imports_cell('import sklearn\\nimport matplotlib.pyplot as plt\\nimport numpy as np\\nfrom sklearn.model_selection import train_test_split\\nimport pandas as pd'); }\n",
       "    "
      ],
      "text/plain": [
       "<IPython.core.display.Javascript object>"
      ]
     },
     "metadata": {},
     "output_type": "display_data"
    },
    {
     "data": {
      "application/javascript": [
       "\n",
       "        if (window._pyforest_update_imports_cell) { window._pyforest_update_imports_cell('import sklearn\\nimport matplotlib.pyplot as plt\\nimport numpy as np\\nfrom sklearn.model_selection import train_test_split\\nimport pandas as pd'); }\n",
       "    "
      ],
      "text/plain": [
       "<IPython.core.display.Javascript object>"
      ]
     },
     "metadata": {},
     "output_type": "display_data"
    },
    {
     "data": {
      "text/plain": [
       "<Figure size 1080x576 with 0 Axes>"
      ]
     },
     "metadata": {},
     "output_type": "display_data"
    },
    {
     "data": {
      "image/png": "[encoded data removed]",
      "text/plain": [
       "<Figure size 576x396 with 1 Axes>"
      ]
     },
     "metadata": {},
     "output_type": "display_data"
    }
   ],
   "source": [
    "from mlxtend.feature_selection import SequentialFeatureSelector as SFS\n",
    "from mlxtend.plotting import plot_sequential_feature_selection as plot_sfs\n",
    "\n",
    "model = RandomForestClassifier()\n",
    "sfs = SFS(model, \n",
    "          k_features=92, \n",
    "          forward=True, \n",
    "          floating=False, \n",
    "          scoring='mutual_info_score',\n",
    "          cv=10).fit(x_tr_st, np.ravel(y_tr))\n",
    "plt.figure(figsize=(15,8))\n",
    "fig = plot_sfs(sfs.get_metric_dict(), kind='std_err')\n",
    "plt.title('Sequential Forward Selection (w. StdErr)')\n",
    "plt.grid()\n",
    "plt.show()"
   ]
  },
  {
   "cell_type": "code",
   "execution_count": null,
   "metadata": {},
   "outputs": [],
   "source": []
  }
 ],
 "metadata": {
  "kernelspec": {
   "display_name": "Python 3.8.3 64-bit ('base': conda)",
   "language": "python",
   "name": "python38364bitbasecondaa484b042fbed4d21ad19847f11dc808b"
  },
  "language_info": {
   "codemirror_mode": {
    "name": "ipython",
    "version": 3
   },
   "file_extension": ".py",
   "mimetype": "text/x-python",
   "name": "python",
   "nbconvert_exporter": "python",
   "pygments_lexer": "ipython3",
   "version": "3.8.5"
  }
 },
 "nbformat": 4,
 "nbformat_minor": 4
}
